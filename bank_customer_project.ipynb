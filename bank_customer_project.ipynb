{
 "cells": [
  {
   "cell_type": "markdown",
   "metadata": {
    "id": "R88Ms0MTi0Ma"
   },
   "source": [
    "# Bank Customer Churn Prediction "
   ]
  },
  {
   "cell_type": "markdown",
   "metadata": {
    "id": "bO94-bXZi0Md"
   },
   "source": [
    "## Contents"
   ]
  },
  {
   "cell_type": "markdown",
   "metadata": {
    "id": "SIvRSRqAi0Md"
   },
   "source": [
    "\n",
    "* [Part 1: Data Exploration](#Part-1:-Data-Exploration)\n",
    "* [Part 2: Feature Preprocessing](#Part-2:-Feature-Preprocessing)\n",
    "* [Part 3: Model Training and Results Evaluation](#Part-3:-Model-Training-and-Result-Evaluation)"
   ]
  },
  {
   "cell_type": "markdown",
   "metadata": {
    "id": "a6bG_gAPi0Me"
   },
   "source": [
    "# Part 1: Data Exploration"
   ]
  },
  {
   "cell_type": "markdown",
   "metadata": {
    "id": "bspx2K6fi0Me"
   },
   "source": [
    "### Part 1.1: Understand the Raw Dataset"
   ]
  },
  {
   "cell_type": "code",
   "execution_count": 2,
   "metadata": {
    "id": "kuTHKjk-i0Mf"
   },
   "outputs": [],
   "source": [
    "import pandas as pd\n",
    "import numpy as np\n",
    "\n",
    "churn_df = pd.read_csv('bank_churn.csv')"
   ]
  },
  {
   "cell_type": "code",
   "execution_count": 3,
   "metadata": {
    "colab": {
     "base_uri": "https://localhost:8080/",
     "height": 270
    },
    "id": "hHNZRs2Ti0Mi",
    "outputId": "72882010-fb64-40e3-8914-7436a1d3bb95",
    "scrolled": true
   },
   "outputs": [
    {
     "data": {
      "text/html": [
       "<div>\n",
       "<style scoped>\n",
       "    .dataframe tbody tr th:only-of-type {\n",
       "        vertical-align: middle;\n",
       "    }\n",
       "\n",
       "    .dataframe tbody tr th {\n",
       "        vertical-align: top;\n",
       "    }\n",
       "\n",
       "    .dataframe thead th {\n",
       "        text-align: right;\n",
       "    }\n",
       "</style>\n",
       "<table border=\"1\" class=\"dataframe\">\n",
       "  <thead>\n",
       "    <tr style=\"text-align: right;\">\n",
       "      <th></th>\n",
       "      <th>RowNumber</th>\n",
       "      <th>CustomerId</th>\n",
       "      <th>Surname</th>\n",
       "      <th>CreditScore</th>\n",
       "      <th>Geography</th>\n",
       "      <th>Gender</th>\n",
       "      <th>Age</th>\n",
       "      <th>Tenure</th>\n",
       "      <th>Balance</th>\n",
       "      <th>NumOfProducts</th>\n",
       "      <th>HasCrCard</th>\n",
       "      <th>IsActiveMember</th>\n",
       "      <th>EstimatedSalary</th>\n",
       "      <th>Exited</th>\n",
       "    </tr>\n",
       "  </thead>\n",
       "  <tbody>\n",
       "    <tr>\n",
       "      <th>0</th>\n",
       "      <td>1</td>\n",
       "      <td>15634602</td>\n",
       "      <td>Hargrave</td>\n",
       "      <td>619</td>\n",
       "      <td>France</td>\n",
       "      <td>Female</td>\n",
       "      <td>42</td>\n",
       "      <td>2</td>\n",
       "      <td>0.00</td>\n",
       "      <td>1</td>\n",
       "      <td>1</td>\n",
       "      <td>1</td>\n",
       "      <td>101348.88</td>\n",
       "      <td>1</td>\n",
       "    </tr>\n",
       "    <tr>\n",
       "      <th>1</th>\n",
       "      <td>2</td>\n",
       "      <td>15647311</td>\n",
       "      <td>Hill</td>\n",
       "      <td>608</td>\n",
       "      <td>Spain</td>\n",
       "      <td>Female</td>\n",
       "      <td>41</td>\n",
       "      <td>1</td>\n",
       "      <td>83807.86</td>\n",
       "      <td>1</td>\n",
       "      <td>0</td>\n",
       "      <td>1</td>\n",
       "      <td>112542.58</td>\n",
       "      <td>0</td>\n",
       "    </tr>\n",
       "    <tr>\n",
       "      <th>2</th>\n",
       "      <td>3</td>\n",
       "      <td>15619304</td>\n",
       "      <td>Onio</td>\n",
       "      <td>502</td>\n",
       "      <td>France</td>\n",
       "      <td>Female</td>\n",
       "      <td>42</td>\n",
       "      <td>8</td>\n",
       "      <td>159660.80</td>\n",
       "      <td>3</td>\n",
       "      <td>1</td>\n",
       "      <td>0</td>\n",
       "      <td>113931.57</td>\n",
       "      <td>1</td>\n",
       "    </tr>\n",
       "    <tr>\n",
       "      <th>3</th>\n",
       "      <td>4</td>\n",
       "      <td>15701354</td>\n",
       "      <td>Boni</td>\n",
       "      <td>699</td>\n",
       "      <td>France</td>\n",
       "      <td>Female</td>\n",
       "      <td>39</td>\n",
       "      <td>1</td>\n",
       "      <td>0.00</td>\n",
       "      <td>2</td>\n",
       "      <td>0</td>\n",
       "      <td>0</td>\n",
       "      <td>93826.63</td>\n",
       "      <td>0</td>\n",
       "    </tr>\n",
       "    <tr>\n",
       "      <th>4</th>\n",
       "      <td>5</td>\n",
       "      <td>15737888</td>\n",
       "      <td>Mitchell</td>\n",
       "      <td>850</td>\n",
       "      <td>Spain</td>\n",
       "      <td>Female</td>\n",
       "      <td>43</td>\n",
       "      <td>2</td>\n",
       "      <td>125510.82</td>\n",
       "      <td>1</td>\n",
       "      <td>1</td>\n",
       "      <td>1</td>\n",
       "      <td>79084.10</td>\n",
       "      <td>0</td>\n",
       "    </tr>\n",
       "  </tbody>\n",
       "</table>\n",
       "</div>"
      ],
      "text/plain": [
       "   RowNumber  CustomerId   Surname  CreditScore Geography  Gender  Age  \\\n",
       "0          1    15634602  Hargrave          619    France  Female   42   \n",
       "1          2    15647311      Hill          608     Spain  Female   41   \n",
       "2          3    15619304      Onio          502    France  Female   42   \n",
       "3          4    15701354      Boni          699    France  Female   39   \n",
       "4          5    15737888  Mitchell          850     Spain  Female   43   \n",
       "\n",
       "   Tenure    Balance  NumOfProducts  HasCrCard  IsActiveMember  \\\n",
       "0       2       0.00              1          1               1   \n",
       "1       1   83807.86              1          0               1   \n",
       "2       8  159660.80              3          1               0   \n",
       "3       1       0.00              2          0               0   \n",
       "4       2  125510.82              1          1               1   \n",
       "\n",
       "   EstimatedSalary  Exited  \n",
       "0        101348.88       1  \n",
       "1        112542.58       0  \n",
       "2        113931.57       1  \n",
       "3         93826.63       0  \n",
       "4         79084.10       0  "
      ]
     },
     "execution_count": 3,
     "metadata": {},
     "output_type": "execute_result"
    }
   ],
   "source": [
    "churn_df.head()"
   ]
  },
  {
   "cell_type": "code",
   "execution_count": 4,
   "metadata": {
    "colab": {
     "base_uri": "https://localhost:8080/"
    },
    "id": "ht5YOBdx8NLV",
    "outputId": "9f8e9725-5282-4ac5-8367-879d2b4ce64c"
   },
   "outputs": [
    {
     "name": "stdout",
     "output_type": "stream",
     "text": [
      "<class 'pandas.core.frame.DataFrame'>\n",
      "RangeIndex: 10000 entries, 0 to 9999\n",
      "Data columns (total 14 columns):\n",
      " #   Column           Non-Null Count  Dtype  \n",
      "---  ------           --------------  -----  \n",
      " 0   RowNumber        10000 non-null  int64  \n",
      " 1   CustomerId       10000 non-null  int64  \n",
      " 2   Surname          10000 non-null  object \n",
      " 3   CreditScore      10000 non-null  int64  \n",
      " 4   Geography        10000 non-null  object \n",
      " 5   Gender           10000 non-null  object \n",
      " 6   Age              10000 non-null  int64  \n",
      " 7   Tenure           10000 non-null  int64  \n",
      " 8   Balance          10000 non-null  float64\n",
      " 9   NumOfProducts    10000 non-null  int64  \n",
      " 10  HasCrCard        10000 non-null  int64  \n",
      " 11  IsActiveMember   10000 non-null  int64  \n",
      " 12  EstimatedSalary  10000 non-null  float64\n",
      " 13  Exited           10000 non-null  int64  \n",
      "dtypes: float64(2), int64(9), object(3)\n",
      "memory usage: 1.1+ MB\n"
     ]
    }
   ],
   "source": [
    "# check data info\n",
    "churn_df.info()"
   ]
  },
  {
   "cell_type": "code",
   "execution_count": 5,
   "metadata": {
    "colab": {
     "base_uri": "https://localhost:8080/"
    },
    "id": "ZASeB8_089yA",
    "outputId": "bb1ebbf6-e82d-48d0-e4ad-e7a05ede0d2a"
   },
   "outputs": [
    {
     "data": {
      "text/plain": [
       "RowNumber          10000\n",
       "CustomerId         10000\n",
       "Surname             2932\n",
       "CreditScore          460\n",
       "Geography              3\n",
       "Gender                 2\n",
       "Age                   70\n",
       "Tenure                11\n",
       "Balance             6382\n",
       "NumOfProducts          4\n",
       "HasCrCard              2\n",
       "IsActiveMember         2\n",
       "EstimatedSalary     9999\n",
       "Exited                 2\n",
       "dtype: int64"
      ]
     },
     "execution_count": 5,
     "metadata": {},
     "output_type": "execute_result"
    }
   ],
   "source": [
    "# check the unique values for each column\n",
    "churn_df.nunique()"
   ]
  },
  {
   "cell_type": "code",
   "execution_count": 6,
   "metadata": {
    "id": "4ec5r_Qdi0NL"
   },
   "outputs": [],
   "source": [
    "# Get target variable\n",
    "y = churn_df['Exited']"
   ]
  },
  {
   "cell_type": "markdown",
   "metadata": {
    "id": "SsAbAjhvi0Mx"
   },
   "source": [
    "### Part 1.2:  Understand the features"
   ]
  },
  {
   "cell_type": "code",
   "execution_count": 7,
   "metadata": {
    "colab": {
     "base_uri": "https://localhost:8080/"
    },
    "id": "_t1xsBp--_0K",
    "outputId": "94de6135-8882-4ae6-afca-d276a29e00f7"
   },
   "outputs": [
    {
     "data": {
      "text/plain": [
       "RowNumber          0\n",
       "CustomerId         0\n",
       "Surname            0\n",
       "CreditScore        0\n",
       "Geography          0\n",
       "Gender             0\n",
       "Age                0\n",
       "Tenure             0\n",
       "Balance            0\n",
       "NumOfProducts      0\n",
       "HasCrCard          0\n",
       "IsActiveMember     0\n",
       "EstimatedSalary    0\n",
       "Exited             0\n",
       "dtype: int64"
      ]
     },
     "execution_count": 7,
     "metadata": {},
     "output_type": "execute_result"
    }
   ],
   "source": [
    "# check missing values\n",
    "churn_df.isnull().sum()"
   ]
  },
  {
   "cell_type": "code",
   "execution_count": 8,
   "metadata": {
    "colab": {
     "base_uri": "https://localhost:8080/",
     "height": 300
    },
    "id": "BIqBIpOt_COM",
    "outputId": "03f961c0-ed16-4b78-e229-45b83a650c06"
   },
   "outputs": [
    {
     "data": {
      "text/html": [
       "<div>\n",
       "<style scoped>\n",
       "    .dataframe tbody tr th:only-of-type {\n",
       "        vertical-align: middle;\n",
       "    }\n",
       "\n",
       "    .dataframe tbody tr th {\n",
       "        vertical-align: top;\n",
       "    }\n",
       "\n",
       "    .dataframe thead th {\n",
       "        text-align: right;\n",
       "    }\n",
       "</style>\n",
       "<table border=\"1\" class=\"dataframe\">\n",
       "  <thead>\n",
       "    <tr style=\"text-align: right;\">\n",
       "      <th></th>\n",
       "      <th>CreditScore</th>\n",
       "      <th>Age</th>\n",
       "      <th>Tenure</th>\n",
       "      <th>NumOfProducts</th>\n",
       "      <th>Balance</th>\n",
       "      <th>EstimatedSalary</th>\n",
       "    </tr>\n",
       "  </thead>\n",
       "  <tbody>\n",
       "    <tr>\n",
       "      <th>count</th>\n",
       "      <td>10000.000000</td>\n",
       "      <td>10000.000000</td>\n",
       "      <td>10000.000000</td>\n",
       "      <td>10000.000000</td>\n",
       "      <td>10000.000000</td>\n",
       "      <td>10000.000000</td>\n",
       "    </tr>\n",
       "    <tr>\n",
       "      <th>mean</th>\n",
       "      <td>650.528800</td>\n",
       "      <td>38.921800</td>\n",
       "      <td>5.012800</td>\n",
       "      <td>1.530200</td>\n",
       "      <td>76485.889288</td>\n",
       "      <td>100090.239881</td>\n",
       "    </tr>\n",
       "    <tr>\n",
       "      <th>std</th>\n",
       "      <td>96.653299</td>\n",
       "      <td>10.487806</td>\n",
       "      <td>2.892174</td>\n",
       "      <td>0.581654</td>\n",
       "      <td>62397.405202</td>\n",
       "      <td>57510.492818</td>\n",
       "    </tr>\n",
       "    <tr>\n",
       "      <th>min</th>\n",
       "      <td>350.000000</td>\n",
       "      <td>18.000000</td>\n",
       "      <td>0.000000</td>\n",
       "      <td>1.000000</td>\n",
       "      <td>0.000000</td>\n",
       "      <td>11.580000</td>\n",
       "    </tr>\n",
       "    <tr>\n",
       "      <th>25%</th>\n",
       "      <td>584.000000</td>\n",
       "      <td>32.000000</td>\n",
       "      <td>3.000000</td>\n",
       "      <td>1.000000</td>\n",
       "      <td>0.000000</td>\n",
       "      <td>51002.110000</td>\n",
       "    </tr>\n",
       "    <tr>\n",
       "      <th>50%</th>\n",
       "      <td>652.000000</td>\n",
       "      <td>37.000000</td>\n",
       "      <td>5.000000</td>\n",
       "      <td>1.000000</td>\n",
       "      <td>97198.540000</td>\n",
       "      <td>100193.915000</td>\n",
       "    </tr>\n",
       "    <tr>\n",
       "      <th>75%</th>\n",
       "      <td>718.000000</td>\n",
       "      <td>44.000000</td>\n",
       "      <td>7.000000</td>\n",
       "      <td>2.000000</td>\n",
       "      <td>127644.240000</td>\n",
       "      <td>149388.247500</td>\n",
       "    </tr>\n",
       "    <tr>\n",
       "      <th>max</th>\n",
       "      <td>850.000000</td>\n",
       "      <td>92.000000</td>\n",
       "      <td>10.000000</td>\n",
       "      <td>4.000000</td>\n",
       "      <td>250898.090000</td>\n",
       "      <td>199992.480000</td>\n",
       "    </tr>\n",
       "  </tbody>\n",
       "</table>\n",
       "</div>"
      ],
      "text/plain": [
       "        CreditScore           Age        Tenure  NumOfProducts        Balance  \\\n",
       "count  10000.000000  10000.000000  10000.000000   10000.000000   10000.000000   \n",
       "mean     650.528800     38.921800      5.012800       1.530200   76485.889288   \n",
       "std       96.653299     10.487806      2.892174       0.581654   62397.405202   \n",
       "min      350.000000     18.000000      0.000000       1.000000       0.000000   \n",
       "25%      584.000000     32.000000      3.000000       1.000000       0.000000   \n",
       "50%      652.000000     37.000000      5.000000       1.000000   97198.540000   \n",
       "75%      718.000000     44.000000      7.000000       2.000000  127644.240000   \n",
       "max      850.000000     92.000000     10.000000       4.000000  250898.090000   \n",
       "\n",
       "       EstimatedSalary  \n",
       "count     10000.000000  \n",
       "mean     100090.239881  \n",
       "std       57510.492818  \n",
       "min          11.580000  \n",
       "25%       51002.110000  \n",
       "50%      100193.915000  \n",
       "75%      149388.247500  \n",
       "max      199992.480000  "
      ]
     },
     "execution_count": 8,
     "metadata": {},
     "output_type": "execute_result"
    }
   ],
   "source": [
    "# understand Numerical feature\n",
    "# discrete/continuous\n",
    "# 'CreditScore', 'Age', 'Tenure', 'NumberOfProducts'\n",
    "# 'Balance', 'EstimatedSalary'\n",
    "churn_df[['CreditScore', 'Age', 'Tenure', 'NumOfProducts','Balance', 'EstimatedSalary']].describe()"
   ]
  },
  {
   "cell_type": "code",
   "execution_count": 9,
   "metadata": {
    "id": "uSWC_9arxlfk"
   },
   "outputs": [],
   "source": [
    "# check the feature distribution\n",
    "# pandas.DataFrame.describe()\n",
    "# boxplot, distplot, countplot\n",
    "import matplotlib.pyplot as plt\n",
    "import seaborn as sns"
   ]
  },
  {
   "cell_type": "code",
   "execution_count": 10,
   "metadata": {
    "colab": {
     "base_uri": "https://localhost:8080/",
     "height": 623
    },
    "id": "E6o4PlZbuSYy",
    "outputId": "e37bd6bb-3d76-4e98-b034-06a2f611c8cc"
   },
   "outputs": [
    {
     "data": {
      "text/plain": [
       "<AxesSubplot:xlabel='Exited', ylabel='EstimatedSalary'>"
      ]
     },
     "execution_count": 10,
     "metadata": {},
     "output_type": "execute_result"
    },
    {
     "data": {
      "image/png": "[encoded data removed]",
      "text/plain": [
       "<Figure size 1440x720 with 6 Axes>"
      ]
     },
     "metadata": {
      "needs_background": "light"
     },
     "output_type": "display_data"
    }
   ],
   "source": [
    "# boxplot for numerical feature\n",
    "_,axss = plt.subplots(2,3, figsize=[20,10])\n",
    "sns.boxplot(x='Exited', y ='CreditScore', data=churn_df, ax=axss[0][0])\n",
    "sns.boxplot(x='Exited', y ='Age', data=churn_df, ax=axss[0][1])\n",
    "sns.boxplot(x='Exited', y ='Tenure', data=churn_df, ax=axss[0][2])\n",
    "sns.boxplot(x='Exited', y ='NumOfProducts', data=churn_df, ax=axss[1][0])\n",
    "sns.boxplot(x='Exited', y ='Balance', data=churn_df, ax=axss[1][1])\n",
    "sns.boxplot(x='Exited', y ='EstimatedSalary', data=churn_df, ax=axss[1][2])"
   ]
  },
  {
   "cell_type": "code",
   "execution_count": 11,
   "metadata": {
    "colab": {
     "base_uri": "https://localhost:8080/",
     "height": 623
    },
    "id": "U0xZ-y3cw8JJ",
    "outputId": "8020e101-9650-4d7a-d108-c8b0f3e7c717"
   },
   "outputs": [
    {
     "data": {
      "text/plain": [
       "<AxesSubplot:xlabel='Exited', ylabel='count'>"
      ]
     },
     "execution_count": 11,
     "metadata": {},
     "output_type": "execute_result"
    },
    {
     "data": {
      "image/png": "[encoded data removed]",
      "text/plain": [
       "<Figure size 1440x720 with 4 Axes>"
      ]
     },
     "metadata": {
      "needs_background": "light"
     },
     "output_type": "display_data"
    }
   ],
   "source": [
    "# understand categorical feature\n",
    "# 'Geography', 'Gender'\n",
    "# 'HasCrCard', 'IsActiveMember'\n",
    "_,axss = plt.subplots(2,2, figsize=[20,10])\n",
    "sns.countplot(x='Exited', hue='Geography', data=churn_df, ax=axss[0][0])\n",
    "sns.countplot(x='Exited', hue='Gender', data=churn_df, ax=axss[0][1])\n",
    "sns.countplot(x='Exited', hue='HasCrCard', data=churn_df, ax=axss[1][0])\n",
    "sns.countplot(x='Exited', hue='IsActiveMember', data=churn_df, ax=axss[1][1])"
   ]
  },
  {
   "cell_type": "markdown",
   "metadata": {
    "id": "aFa4d6t3i0NH"
   },
   "source": [
    "# Part 2: Feature Preprocessing"
   ]
  },
  {
   "cell_type": "code",
   "execution_count": 12,
   "metadata": {
    "id": "3sfa2fQx2xXa"
   },
   "outputs": [],
   "source": [
    "# Get feature space by dropping useless feature\n",
    "to_drop = ['RowNumber','CustomerId','Surname','Exited']\n",
    "X = churn_df.drop(to_drop, axis=1)"
   ]
  },
  {
   "cell_type": "code",
   "execution_count": 13,
   "metadata": {
    "colab": {
     "base_uri": "https://localhost:8080/",
     "height": 206
    },
    "id": "lZFFVHUgftso",
    "outputId": "a0c85edc-22d9-444c-b9c7-e41deff1120e"
   },
   "outputs": [
    {
     "data": {
      "text/html": [
       "<div>\n",
       "<style scoped>\n",
       "    .dataframe tbody tr th:only-of-type {\n",
       "        vertical-align: middle;\n",
       "    }\n",
       "\n",
       "    .dataframe tbody tr th {\n",
       "        vertical-align: top;\n",
       "    }\n",
       "\n",
       "    .dataframe thead th {\n",
       "        text-align: right;\n",
       "    }\n",
       "</style>\n",
       "<table border=\"1\" class=\"dataframe\">\n",
       "  <thead>\n",
       "    <tr style=\"text-align: right;\">\n",
       "      <th></th>\n",
       "      <th>CreditScore</th>\n",
       "      <th>Geography</th>\n",
       "      <th>Gender</th>\n",
       "      <th>Age</th>\n",
       "      <th>Tenure</th>\n",
       "      <th>Balance</th>\n",
       "      <th>NumOfProducts</th>\n",
       "      <th>HasCrCard</th>\n",
       "      <th>IsActiveMember</th>\n",
       "      <th>EstimatedSalary</th>\n",
       "    </tr>\n",
       "  </thead>\n",
       "  <tbody>\n",
       "    <tr>\n",
       "      <th>0</th>\n",
       "      <td>619</td>\n",
       "      <td>France</td>\n",
       "      <td>Female</td>\n",
       "      <td>42</td>\n",
       "      <td>2</td>\n",
       "      <td>0.00</td>\n",
       "      <td>1</td>\n",
       "      <td>1</td>\n",
       "      <td>1</td>\n",
       "      <td>101348.88</td>\n",
       "    </tr>\n",
       "    <tr>\n",
       "      <th>1</th>\n",
       "      <td>608</td>\n",
       "      <td>Spain</td>\n",
       "      <td>Female</td>\n",
       "      <td>41</td>\n",
       "      <td>1</td>\n",
       "      <td>83807.86</td>\n",
       "      <td>1</td>\n",
       "      <td>0</td>\n",
       "      <td>1</td>\n",
       "      <td>112542.58</td>\n",
       "    </tr>\n",
       "    <tr>\n",
       "      <th>2</th>\n",
       "      <td>502</td>\n",
       "      <td>France</td>\n",
       "      <td>Female</td>\n",
       "      <td>42</td>\n",
       "      <td>8</td>\n",
       "      <td>159660.80</td>\n",
       "      <td>3</td>\n",
       "      <td>1</td>\n",
       "      <td>0</td>\n",
       "      <td>113931.57</td>\n",
       "    </tr>\n",
       "    <tr>\n",
       "      <th>3</th>\n",
       "      <td>699</td>\n",
       "      <td>France</td>\n",
       "      <td>Female</td>\n",
       "      <td>39</td>\n",
       "      <td>1</td>\n",
       "      <td>0.00</td>\n",
       "      <td>2</td>\n",
       "      <td>0</td>\n",
       "      <td>0</td>\n",
       "      <td>93826.63</td>\n",
       "    </tr>\n",
       "    <tr>\n",
       "      <th>4</th>\n",
       "      <td>850</td>\n",
       "      <td>Spain</td>\n",
       "      <td>Female</td>\n",
       "      <td>43</td>\n",
       "      <td>2</td>\n",
       "      <td>125510.82</td>\n",
       "      <td>1</td>\n",
       "      <td>1</td>\n",
       "      <td>1</td>\n",
       "      <td>79084.10</td>\n",
       "    </tr>\n",
       "  </tbody>\n",
       "</table>\n",
       "</div>"
      ],
      "text/plain": [
       "   CreditScore Geography  Gender  Age  Tenure    Balance  NumOfProducts  \\\n",
       "0          619    France  Female   42       2       0.00              1   \n",
       "1          608     Spain  Female   41       1   83807.86              1   \n",
       "2          502    France  Female   42       8  159660.80              3   \n",
       "3          699    France  Female   39       1       0.00              2   \n",
       "4          850     Spain  Female   43       2  125510.82              1   \n",
       "\n",
       "   HasCrCard  IsActiveMember  EstimatedSalary  \n",
       "0          1               1        101348.88  \n",
       "1          0               1        112542.58  \n",
       "2          1               0        113931.57  \n",
       "3          0               0         93826.63  \n",
       "4          1               1         79084.10  "
      ]
     },
     "execution_count": 13,
     "metadata": {},
     "output_type": "execute_result"
    }
   ],
   "source": [
    "X.head()"
   ]
  },
  {
   "cell_type": "code",
   "execution_count": 14,
   "metadata": {
    "colab": {
     "base_uri": "https://localhost:8080/"
    },
    "id": "i6WyuvNyxNeE",
    "outputId": "103906a5-92bf-4de2-e8e5-d4bbd932623f"
   },
   "outputs": [
    {
     "data": {
      "text/plain": [
       "CreditScore          int64\n",
       "Geography           object\n",
       "Gender              object\n",
       "Age                  int64\n",
       "Tenure               int64\n",
       "Balance            float64\n",
       "NumOfProducts        int64\n",
       "HasCrCard            int64\n",
       "IsActiveMember       int64\n",
       "EstimatedSalary    float64\n",
       "dtype: object"
      ]
     },
     "execution_count": 14,
     "metadata": {},
     "output_type": "execute_result"
    }
   ],
   "source": [
    "X.dtypes"
   ]
  },
  {
   "cell_type": "code",
   "execution_count": 15,
   "metadata": {
    "id": "QSna9_kTcDx8"
   },
   "outputs": [],
   "source": [
    "cat_cols = X.columns[X.dtypes == 'object']\n",
    "num_cols = X.columns[(X.dtypes == 'float64') | (X.dtypes == 'int64')]"
   ]
  },
  {
   "cell_type": "code",
   "execution_count": 16,
   "metadata": {
    "colab": {
     "base_uri": "https://localhost:8080/"
    },
    "id": "XVAaLjGsgCPq",
    "outputId": "d6aa0b35-d66c-4175-bcd2-a29002773c28"
   },
   "outputs": [
    {
     "data": {
      "text/plain": [
       "Index(['CreditScore', 'Age', 'Tenure', 'Balance', 'NumOfProducts', 'HasCrCard',\n",
       "       'IsActiveMember', 'EstimatedSalary'],\n",
       "      dtype='object')"
      ]
     },
     "execution_count": 16,
     "metadata": {},
     "output_type": "execute_result"
    }
   ],
   "source": [
    "num_cols"
   ]
  },
  {
   "cell_type": "code",
   "execution_count": 17,
   "metadata": {
    "colab": {
     "base_uri": "https://localhost:8080/"
    },
    "id": "V784I6eGgAH4",
    "outputId": "45a01924-4d3d-4af0-a635-de38b7f7404d"
   },
   "outputs": [
    {
     "data": {
      "text/plain": [
       "Index(['Geography', 'Gender'], dtype='object')"
      ]
     },
     "execution_count": 17,
     "metadata": {},
     "output_type": "execute_result"
    }
   ],
   "source": [
    "cat_cols"
   ]
  },
  {
   "cell_type": "markdown",
   "metadata": {
    "id": "77OjmSl9i0Nf"
   },
   "source": [
    "Split dataset"
   ]
  },
  {
   "cell_type": "code",
   "execution_count": 18,
   "metadata": {
    "colab": {
     "base_uri": "https://localhost:8080/"
    },
    "id": "Uay8Md5li0Nh",
    "outputId": "c1699209-dc15-44e6-fd92-d2f1d9115135"
   },
   "outputs": [
    {
     "name": "stdout",
     "output_type": "stream",
     "text": [
      "training data has 7500 observation with 10 features\n",
      "test data has 2500 observation with 10 features\n"
     ]
    }
   ],
   "source": [
    "# Splite data into training and testing\n",
    "# 100 -> 75:y=1, 25:y=0\n",
    "# training(80): 60 y=1; 20 y=0 \n",
    "# testing(20):  15 y=1; 5 y=0\n",
    "\n",
    "from sklearn import model_selection\n",
    "\n",
    "# Reserve 25% for testing\n",
    "# stratify example:\n",
    "# 100 -> y: 80 '0', 20 '1' -> 4:1\n",
    "# 80% training 64: '0', 16:'1' -> 4:1\n",
    "# 20% testing  16:'0', 4: '1' -> 4:1\n",
    "X_train, X_test, y_train, y_test = model_selection.train_test_split(X, y, test_size=0.25, stratify = y, random_state=1) #stratified sampling\n",
    "\n",
    "print('training data has ' + str(X_train.shape[0]) + ' observation with ' + str(X_train.shape[1]) + ' features')\n",
    "print('test data has ' + str(X_test.shape[0]) + ' observation with ' + str(X_test.shape[1]) + ' features')"
   ]
  },
  {
   "cell_type": "markdown",
   "metadata": {
    "id": "ODAexq7nyppM"
   },
   "source": [
    "* 10000 -> 8000 '0' + 2000 '1'\n",
    "\n",
    "* 25% test 75% training \n",
    "---\n",
    "without stratified sampling:\n",
    "• extreme case:\n",
    "---\n",
    "1. testing: 2000 '1' + 500 '0'\n",
    "2. training: 7500 '0'\n",
    "---\n",
    "with stratified sampling:\n",
    "1. testing: 2000 '0' + 500 '1'\n",
    "2. training: 6000 '0' + 1500 '1'\n"
   ]
  },
  {
   "cell_type": "markdown",
   "metadata": {
    "id": "JMTIEpY7IfPp"
   },
   "source": [
    "Read more for handling [categorical feature](https://github.com/scikit-learn-contrib/categorical-encoding), and there is an awesome package for [encoding](http://contrib.scikit-learn.org/category_encoders/)."
   ]
  },
  {
   "cell_type": "code",
   "execution_count": 19,
   "metadata": {
    "colab": {
     "base_uri": "https://localhost:8080/",
     "height": 206
    },
    "id": "apcEXk0Eh978",
    "outputId": "47ae3b84-7818-4029-df05-6bf7999bc0c9"
   },
   "outputs": [
    {
     "data": {
      "text/html": [
       "<div>\n",
       "<style scoped>\n",
       "    .dataframe tbody tr th:only-of-type {\n",
       "        vertical-align: middle;\n",
       "    }\n",
       "\n",
       "    .dataframe tbody tr th {\n",
       "        vertical-align: top;\n",
       "    }\n",
       "\n",
       "    .dataframe thead th {\n",
       "        text-align: right;\n",
       "    }\n",
       "</style>\n",
       "<table border=\"1\" class=\"dataframe\">\n",
       "  <thead>\n",
       "    <tr style=\"text-align: right;\">\n",
       "      <th></th>\n",
       "      <th>CreditScore</th>\n",
       "      <th>Geography</th>\n",
       "      <th>Gender</th>\n",
       "      <th>Age</th>\n",
       "      <th>Tenure</th>\n",
       "      <th>Balance</th>\n",
       "      <th>NumOfProducts</th>\n",
       "      <th>HasCrCard</th>\n",
       "      <th>IsActiveMember</th>\n",
       "      <th>EstimatedSalary</th>\n",
       "    </tr>\n",
       "  </thead>\n",
       "  <tbody>\n",
       "    <tr>\n",
       "      <th>7971</th>\n",
       "      <td>633</td>\n",
       "      <td>Spain</td>\n",
       "      <td>Male</td>\n",
       "      <td>42</td>\n",
       "      <td>10</td>\n",
       "      <td>0.00</td>\n",
       "      <td>1</td>\n",
       "      <td>0</td>\n",
       "      <td>1</td>\n",
       "      <td>79408.17</td>\n",
       "    </tr>\n",
       "    <tr>\n",
       "      <th>9152</th>\n",
       "      <td>708</td>\n",
       "      <td>Germany</td>\n",
       "      <td>Female</td>\n",
       "      <td>23</td>\n",
       "      <td>4</td>\n",
       "      <td>71433.08</td>\n",
       "      <td>1</td>\n",
       "      <td>1</td>\n",
       "      <td>0</td>\n",
       "      <td>103697.57</td>\n",
       "    </tr>\n",
       "    <tr>\n",
       "      <th>6732</th>\n",
       "      <td>548</td>\n",
       "      <td>France</td>\n",
       "      <td>Female</td>\n",
       "      <td>37</td>\n",
       "      <td>9</td>\n",
       "      <td>0.00</td>\n",
       "      <td>2</td>\n",
       "      <td>0</td>\n",
       "      <td>0</td>\n",
       "      <td>98029.58</td>\n",
       "    </tr>\n",
       "    <tr>\n",
       "      <th>902</th>\n",
       "      <td>645</td>\n",
       "      <td>France</td>\n",
       "      <td>Female</td>\n",
       "      <td>48</td>\n",
       "      <td>7</td>\n",
       "      <td>90612.34</td>\n",
       "      <td>1</td>\n",
       "      <td>1</td>\n",
       "      <td>1</td>\n",
       "      <td>149139.13</td>\n",
       "    </tr>\n",
       "    <tr>\n",
       "      <th>2996</th>\n",
       "      <td>729</td>\n",
       "      <td>Spain</td>\n",
       "      <td>Female</td>\n",
       "      <td>45</td>\n",
       "      <td>7</td>\n",
       "      <td>91091.06</td>\n",
       "      <td>2</td>\n",
       "      <td>1</td>\n",
       "      <td>0</td>\n",
       "      <td>71133.12</td>\n",
       "    </tr>\n",
       "  </tbody>\n",
       "</table>\n",
       "</div>"
      ],
      "text/plain": [
       "      CreditScore Geography  Gender  Age  Tenure   Balance  NumOfProducts  \\\n",
       "7971          633     Spain    Male   42      10      0.00              1   \n",
       "9152          708   Germany  Female   23       4  71433.08              1   \n",
       "6732          548    France  Female   37       9      0.00              2   \n",
       "902           645    France  Female   48       7  90612.34              1   \n",
       "2996          729     Spain  Female   45       7  91091.06              2   \n",
       "\n",
       "      HasCrCard  IsActiveMember  EstimatedSalary  \n",
       "7971          0               1         79408.17  \n",
       "9152          1               0        103697.57  \n",
       "6732          0               0         98029.58  \n",
       "902           1               1        149139.13  \n",
       "2996          1               0         71133.12  "
      ]
     },
     "execution_count": 19,
     "metadata": {},
     "output_type": "execute_result"
    }
   ],
   "source": [
    "X_train.head()"
   ]
  },
  {
   "cell_type": "code",
   "execution_count": 20,
   "metadata": {
    "colab": {
     "base_uri": "https://localhost:8080/"
    },
    "id": "iWEjSK9leWyH",
    "outputId": "4bd6c929-45d4-45b4-e482-d9115589204a"
   },
   "outputs": [
    {
     "name": "stderr",
     "output_type": "stream",
     "text": [
      "/Users/cj/opt/anaconda3/envs/anly580/lib/python3.9/site-packages/sklearn/utils/deprecation.py:87: FutureWarning: Function get_feature_names is deprecated; get_feature_names is deprecated in 1.0 and will be removed in 1.2. Please use get_feature_names_out instead.\n",
      "  warnings.warn(msg, category=FutureWarning)\n",
      "/Users/cj/opt/anaconda3/envs/anly580/lib/python3.9/site-packages/sklearn/utils/deprecation.py:87: FutureWarning: Function get_feature_names is deprecated; get_feature_names is deprecated in 1.0 and will be removed in 1.2. Please use get_feature_names_out instead.\n",
      "  warnings.warn(msg, category=FutureWarning)\n"
     ]
    }
   ],
   "source": [
    "## One hot encoding ##\n",
    "# another way: get_dummies\n",
    "from sklearn.preprocessing import OneHotEncoder\n",
    "\n",
    "def OneHotEncoding(df, enc, categories):  \n",
    "  transformed = pd.DataFrame(enc.transform(df[categories]).toarray(), columns=enc.get_feature_names(categories))\n",
    "  return pd.concat([df.reset_index(drop=True), transformed], axis=1).drop(categories, axis=1)\n",
    "\n",
    "categories = ['Geography']\n",
    "enc_ohe = OneHotEncoder()\n",
    "enc_ohe.fit(X_train[categories])\n",
    "\n",
    "X_train = OneHotEncoding(X_train, enc_ohe, categories)\n",
    "X_test = OneHotEncoding(X_test, enc_ohe, categories)\n"
   ]
  },
  {
   "cell_type": "code",
   "execution_count": 21,
   "metadata": {
    "colab": {
     "base_uri": "https://localhost:8080/",
     "height": 224
    },
    "id": "txvvIi_Y1G1_",
    "outputId": "c3c5c5fe-74d3-4cd3-d3ce-04ddaa98af87"
   },
   "outputs": [
    {
     "data": {
      "text/html": [
       "<div>\n",
       "<style scoped>\n",
       "    .dataframe tbody tr th:only-of-type {\n",
       "        vertical-align: middle;\n",
       "    }\n",
       "\n",
       "    .dataframe tbody tr th {\n",
       "        vertical-align: top;\n",
       "    }\n",
       "\n",
       "    .dataframe thead th {\n",
       "        text-align: right;\n",
       "    }\n",
       "</style>\n",
       "<table border=\"1\" class=\"dataframe\">\n",
       "  <thead>\n",
       "    <tr style=\"text-align: right;\">\n",
       "      <th></th>\n",
       "      <th>CreditScore</th>\n",
       "      <th>Gender</th>\n",
       "      <th>Age</th>\n",
       "      <th>Tenure</th>\n",
       "      <th>Balance</th>\n",
       "      <th>NumOfProducts</th>\n",
       "      <th>HasCrCard</th>\n",
       "      <th>IsActiveMember</th>\n",
       "      <th>EstimatedSalary</th>\n",
       "      <th>Geography_France</th>\n",
       "      <th>Geography_Germany</th>\n",
       "      <th>Geography_Spain</th>\n",
       "    </tr>\n",
       "  </thead>\n",
       "  <tbody>\n",
       "    <tr>\n",
       "      <th>0</th>\n",
       "      <td>633</td>\n",
       "      <td>Male</td>\n",
       "      <td>42</td>\n",
       "      <td>10</td>\n",
       "      <td>0.00</td>\n",
       "      <td>1</td>\n",
       "      <td>0</td>\n",
       "      <td>1</td>\n",
       "      <td>79408.17</td>\n",
       "      <td>0.0</td>\n",
       "      <td>0.0</td>\n",
       "      <td>1.0</td>\n",
       "    </tr>\n",
       "    <tr>\n",
       "      <th>1</th>\n",
       "      <td>708</td>\n",
       "      <td>Female</td>\n",
       "      <td>23</td>\n",
       "      <td>4</td>\n",
       "      <td>71433.08</td>\n",
       "      <td>1</td>\n",
       "      <td>1</td>\n",
       "      <td>0</td>\n",
       "      <td>103697.57</td>\n",
       "      <td>0.0</td>\n",
       "      <td>1.0</td>\n",
       "      <td>0.0</td>\n",
       "    </tr>\n",
       "    <tr>\n",
       "      <th>2</th>\n",
       "      <td>548</td>\n",
       "      <td>Female</td>\n",
       "      <td>37</td>\n",
       "      <td>9</td>\n",
       "      <td>0.00</td>\n",
       "      <td>2</td>\n",
       "      <td>0</td>\n",
       "      <td>0</td>\n",
       "      <td>98029.58</td>\n",
       "      <td>1.0</td>\n",
       "      <td>0.0</td>\n",
       "      <td>0.0</td>\n",
       "    </tr>\n",
       "    <tr>\n",
       "      <th>3</th>\n",
       "      <td>645</td>\n",
       "      <td>Female</td>\n",
       "      <td>48</td>\n",
       "      <td>7</td>\n",
       "      <td>90612.34</td>\n",
       "      <td>1</td>\n",
       "      <td>1</td>\n",
       "      <td>1</td>\n",
       "      <td>149139.13</td>\n",
       "      <td>1.0</td>\n",
       "      <td>0.0</td>\n",
       "      <td>0.0</td>\n",
       "    </tr>\n",
       "    <tr>\n",
       "      <th>4</th>\n",
       "      <td>729</td>\n",
       "      <td>Female</td>\n",
       "      <td>45</td>\n",
       "      <td>7</td>\n",
       "      <td>91091.06</td>\n",
       "      <td>2</td>\n",
       "      <td>1</td>\n",
       "      <td>0</td>\n",
       "      <td>71133.12</td>\n",
       "      <td>0.0</td>\n",
       "      <td>0.0</td>\n",
       "      <td>1.0</td>\n",
       "    </tr>\n",
       "  </tbody>\n",
       "</table>\n",
       "</div>"
      ],
      "text/plain": [
       "   CreditScore  Gender  Age  Tenure   Balance  NumOfProducts  HasCrCard  \\\n",
       "0          633    Male   42      10      0.00              1          0   \n",
       "1          708  Female   23       4  71433.08              1          1   \n",
       "2          548  Female   37       9      0.00              2          0   \n",
       "3          645  Female   48       7  90612.34              1          1   \n",
       "4          729  Female   45       7  91091.06              2          1   \n",
       "\n",
       "   IsActiveMember  EstimatedSalary  Geography_France  Geography_Germany  \\\n",
       "0               1         79408.17               0.0                0.0   \n",
       "1               0        103697.57               0.0                1.0   \n",
       "2               0         98029.58               1.0                0.0   \n",
       "3               1        149139.13               1.0                0.0   \n",
       "4               0         71133.12               0.0                0.0   \n",
       "\n",
       "   Geography_Spain  \n",
       "0              1.0  \n",
       "1              0.0  \n",
       "2              0.0  \n",
       "3              0.0  \n",
       "4              1.0  "
      ]
     },
     "execution_count": 21,
     "metadata": {},
     "output_type": "execute_result"
    }
   ],
   "source": [
    "X_train.head()"
   ]
  },
  {
   "cell_type": "code",
   "execution_count": 22,
   "metadata": {
    "id": "6f3JCVj3ouWj"
   },
   "outputs": [],
   "source": [
    "## Ordinal encoding ##\n",
    "from sklearn.preprocessing import OrdinalEncoder\n",
    "\n",
    "categories = ['Gender']\n",
    "enc_oe = OrdinalEncoder()\n",
    "enc_oe.fit(X_train[categories])\n",
    "\n",
    "X_train[categories] = enc_oe.transform(X_train[categories])\n",
    "X_test[categories] = enc_oe.transform(X_test[categories])"
   ]
  },
  {
   "cell_type": "code",
   "execution_count": 23,
   "metadata": {
    "colab": {
     "base_uri": "https://localhost:8080/",
     "height": 206
    },
    "id": "qFaSPAc7sP8W",
    "outputId": "fde8fe4c-40f4-41eb-b783-5b23f9d743e2"
   },
   "outputs": [
    {
     "data": {
      "text/html": [
       "<div>\n",
       "<style scoped>\n",
       "    .dataframe tbody tr th:only-of-type {\n",
       "        vertical-align: middle;\n",
       "    }\n",
       "\n",
       "    .dataframe tbody tr th {\n",
       "        vertical-align: top;\n",
       "    }\n",
       "\n",
       "    .dataframe thead th {\n",
       "        text-align: right;\n",
       "    }\n",
       "</style>\n",
       "<table border=\"1\" class=\"dataframe\">\n",
       "  <thead>\n",
       "    <tr style=\"text-align: right;\">\n",
       "      <th></th>\n",
       "      <th>CreditScore</th>\n",
       "      <th>Gender</th>\n",
       "      <th>Age</th>\n",
       "      <th>Tenure</th>\n",
       "      <th>Balance</th>\n",
       "      <th>NumOfProducts</th>\n",
       "      <th>HasCrCard</th>\n",
       "      <th>IsActiveMember</th>\n",
       "      <th>EstimatedSalary</th>\n",
       "      <th>Geography_France</th>\n",
       "      <th>Geography_Germany</th>\n",
       "      <th>Geography_Spain</th>\n",
       "    </tr>\n",
       "  </thead>\n",
       "  <tbody>\n",
       "    <tr>\n",
       "      <th>0</th>\n",
       "      <td>633</td>\n",
       "      <td>1.0</td>\n",
       "      <td>42</td>\n",
       "      <td>10</td>\n",
       "      <td>0.00</td>\n",
       "      <td>1</td>\n",
       "      <td>0</td>\n",
       "      <td>1</td>\n",
       "      <td>79408.17</td>\n",
       "      <td>0.0</td>\n",
       "      <td>0.0</td>\n",
       "      <td>1.0</td>\n",
       "    </tr>\n",
       "    <tr>\n",
       "      <th>1</th>\n",
       "      <td>708</td>\n",
       "      <td>0.0</td>\n",
       "      <td>23</td>\n",
       "      <td>4</td>\n",
       "      <td>71433.08</td>\n",
       "      <td>1</td>\n",
       "      <td>1</td>\n",
       "      <td>0</td>\n",
       "      <td>103697.57</td>\n",
       "      <td>0.0</td>\n",
       "      <td>1.0</td>\n",
       "      <td>0.0</td>\n",
       "    </tr>\n",
       "    <tr>\n",
       "      <th>2</th>\n",
       "      <td>548</td>\n",
       "      <td>0.0</td>\n",
       "      <td>37</td>\n",
       "      <td>9</td>\n",
       "      <td>0.00</td>\n",
       "      <td>2</td>\n",
       "      <td>0</td>\n",
       "      <td>0</td>\n",
       "      <td>98029.58</td>\n",
       "      <td>1.0</td>\n",
       "      <td>0.0</td>\n",
       "      <td>0.0</td>\n",
       "    </tr>\n",
       "    <tr>\n",
       "      <th>3</th>\n",
       "      <td>645</td>\n",
       "      <td>0.0</td>\n",
       "      <td>48</td>\n",
       "      <td>7</td>\n",
       "      <td>90612.34</td>\n",
       "      <td>1</td>\n",
       "      <td>1</td>\n",
       "      <td>1</td>\n",
       "      <td>149139.13</td>\n",
       "      <td>1.0</td>\n",
       "      <td>0.0</td>\n",
       "      <td>0.0</td>\n",
       "    </tr>\n",
       "    <tr>\n",
       "      <th>4</th>\n",
       "      <td>729</td>\n",
       "      <td>0.0</td>\n",
       "      <td>45</td>\n",
       "      <td>7</td>\n",
       "      <td>91091.06</td>\n",
       "      <td>2</td>\n",
       "      <td>1</td>\n",
       "      <td>0</td>\n",
       "      <td>71133.12</td>\n",
       "      <td>0.0</td>\n",
       "      <td>0.0</td>\n",
       "      <td>1.0</td>\n",
       "    </tr>\n",
       "  </tbody>\n",
       "</table>\n",
       "</div>"
      ],
      "text/plain": [
       "   CreditScore  Gender  Age  Tenure   Balance  NumOfProducts  HasCrCard  \\\n",
       "0          633     1.0   42      10      0.00              1          0   \n",
       "1          708     0.0   23       4  71433.08              1          1   \n",
       "2          548     0.0   37       9      0.00              2          0   \n",
       "3          645     0.0   48       7  90612.34              1          1   \n",
       "4          729     0.0   45       7  91091.06              2          1   \n",
       "\n",
       "   IsActiveMember  EstimatedSalary  Geography_France  Geography_Germany  \\\n",
       "0               1         79408.17               0.0                0.0   \n",
       "1               0        103697.57               0.0                1.0   \n",
       "2               0         98029.58               1.0                0.0   \n",
       "3               1        149139.13               1.0                0.0   \n",
       "4               0         71133.12               0.0                0.0   \n",
       "\n",
       "   Geography_Spain  \n",
       "0              1.0  \n",
       "1              0.0  \n",
       "2              0.0  \n",
       "3              0.0  \n",
       "4              1.0  "
      ]
     },
     "execution_count": 23,
     "metadata": {},
     "output_type": "execute_result"
    }
   ],
   "source": [
    "X_train.head()"
   ]
  },
  {
   "cell_type": "markdown",
   "metadata": {
    "id": "vecyDzf8eXgg"
   },
   "source": [
    "Standardize/Normalize Data"
   ]
  },
  {
   "cell_type": "code",
   "execution_count": 24,
   "metadata": {
    "id": "JuPhtUkJi0NW"
   },
   "outputs": [],
   "source": [
    "# Scale the data, using standardization\n",
    "\n",
    "from sklearn.preprocessing import StandardScaler\n",
    "scaler = StandardScaler()\n",
    "scaler.fit(X_train[num_cols])\n",
    "X_train[num_cols] = scaler.transform(X_train[num_cols])\n",
    "X_test[num_cols] = scaler.transform(X_test[num_cols])"
   ]
  },
  {
   "cell_type": "code",
   "execution_count": 25,
   "metadata": {
    "colab": {
     "base_uri": "https://localhost:8080/",
     "height": 206
    },
    "id": "UydCNgAZ9ajK",
    "outputId": "be5028fb-b54b-4e12-cf86-eb7da57dff8d"
   },
   "outputs": [
    {
     "data": {
      "text/html": [
       "<div>\n",
       "<style scoped>\n",
       "    .dataframe tbody tr th:only-of-type {\n",
       "        vertical-align: middle;\n",
       "    }\n",
       "\n",
       "    .dataframe tbody tr th {\n",
       "        vertical-align: top;\n",
       "    }\n",
       "\n",
       "    .dataframe thead th {\n",
       "        text-align: right;\n",
       "    }\n",
       "</style>\n",
       "<table border=\"1\" class=\"dataframe\">\n",
       "  <thead>\n",
       "    <tr style=\"text-align: right;\">\n",
       "      <th></th>\n",
       "      <th>CreditScore</th>\n",
       "      <th>Gender</th>\n",
       "      <th>Age</th>\n",
       "      <th>Tenure</th>\n",
       "      <th>Balance</th>\n",
       "      <th>NumOfProducts</th>\n",
       "      <th>HasCrCard</th>\n",
       "      <th>IsActiveMember</th>\n",
       "      <th>EstimatedSalary</th>\n",
       "      <th>Geography_France</th>\n",
       "      <th>Geography_Germany</th>\n",
       "      <th>Geography_Spain</th>\n",
       "    </tr>\n",
       "  </thead>\n",
       "  <tbody>\n",
       "    <tr>\n",
       "      <th>0</th>\n",
       "      <td>-0.172985</td>\n",
       "      <td>1.0</td>\n",
       "      <td>0.289202</td>\n",
       "      <td>1.731199</td>\n",
       "      <td>-1.218916</td>\n",
       "      <td>-0.912769</td>\n",
       "      <td>-1.542199</td>\n",
       "      <td>0.968496</td>\n",
       "      <td>-0.352044</td>\n",
       "      <td>0.0</td>\n",
       "      <td>0.0</td>\n",
       "      <td>1.0</td>\n",
       "    </tr>\n",
       "    <tr>\n",
       "      <th>1</th>\n",
       "      <td>0.602407</td>\n",
       "      <td>0.0</td>\n",
       "      <td>-1.509319</td>\n",
       "      <td>-0.341156</td>\n",
       "      <td>-0.076977</td>\n",
       "      <td>-0.912769</td>\n",
       "      <td>0.648425</td>\n",
       "      <td>-1.032529</td>\n",
       "      <td>0.072315</td>\n",
       "      <td>0.0</td>\n",
       "      <td>1.0</td>\n",
       "      <td>0.0</td>\n",
       "    </tr>\n",
       "    <tr>\n",
       "      <th>2</th>\n",
       "      <td>-1.051762</td>\n",
       "      <td>0.0</td>\n",
       "      <td>-0.184093</td>\n",
       "      <td>1.385806</td>\n",
       "      <td>-1.218916</td>\n",
       "      <td>0.796109</td>\n",
       "      <td>-1.542199</td>\n",
       "      <td>-1.032529</td>\n",
       "      <td>-0.026711</td>\n",
       "      <td>1.0</td>\n",
       "      <td>0.0</td>\n",
       "      <td>0.0</td>\n",
       "    </tr>\n",
       "    <tr>\n",
       "      <th>3</th>\n",
       "      <td>-0.048922</td>\n",
       "      <td>0.0</td>\n",
       "      <td>0.857156</td>\n",
       "      <td>0.695022</td>\n",
       "      <td>0.229625</td>\n",
       "      <td>-0.912769</td>\n",
       "      <td>0.648425</td>\n",
       "      <td>0.968496</td>\n",
       "      <td>0.866221</td>\n",
       "      <td>1.0</td>\n",
       "      <td>0.0</td>\n",
       "      <td>0.0</td>\n",
       "    </tr>\n",
       "    <tr>\n",
       "      <th>4</th>\n",
       "      <td>0.819517</td>\n",
       "      <td>0.0</td>\n",
       "      <td>0.573179</td>\n",
       "      <td>0.695022</td>\n",
       "      <td>0.237278</td>\n",
       "      <td>0.796109</td>\n",
       "      <td>0.648425</td>\n",
       "      <td>-1.032529</td>\n",
       "      <td>-0.496617</td>\n",
       "      <td>0.0</td>\n",
       "      <td>0.0</td>\n",
       "      <td>1.0</td>\n",
       "    </tr>\n",
       "  </tbody>\n",
       "</table>\n",
       "</div>"
      ],
      "text/plain": [
       "   CreditScore  Gender       Age    Tenure   Balance  NumOfProducts  \\\n",
       "0    -0.172985     1.0  0.289202  1.731199 -1.218916      -0.912769   \n",
       "1     0.602407     0.0 -1.509319 -0.341156 -0.076977      -0.912769   \n",
       "2    -1.051762     0.0 -0.184093  1.385806 -1.218916       0.796109   \n",
       "3    -0.048922     0.0  0.857156  0.695022  0.229625      -0.912769   \n",
       "4     0.819517     0.0  0.573179  0.695022  0.237278       0.796109   \n",
       "\n",
       "   HasCrCard  IsActiveMember  EstimatedSalary  Geography_France  \\\n",
       "0  -1.542199        0.968496        -0.352044               0.0   \n",
       "1   0.648425       -1.032529         0.072315               0.0   \n",
       "2  -1.542199       -1.032529        -0.026711               1.0   \n",
       "3   0.648425        0.968496         0.866221               1.0   \n",
       "4   0.648425       -1.032529        -0.496617               0.0   \n",
       "\n",
       "   Geography_Germany  Geography_Spain  \n",
       "0                0.0              1.0  \n",
       "1                1.0              0.0  \n",
       "2                0.0              0.0  \n",
       "3                0.0              0.0  \n",
       "4                0.0              1.0  "
      ]
     },
     "execution_count": 25,
     "metadata": {},
     "output_type": "execute_result"
    }
   ],
   "source": [
    "X_train.head()"
   ]
  },
  {
   "cell_type": "markdown",
   "metadata": {
    "id": "q3x9ySX_i0Nd"
   },
   "source": [
    "# Part 3: Model Training and Result Evaluation"
   ]
  },
  {
   "cell_type": "markdown",
   "metadata": {
    "id": "c4UTtCQTi0Nl"
   },
   "source": [
    "### Part 3.1: Model Training"
   ]
  },
  {
   "cell_type": "code",
   "execution_count": 26,
   "metadata": {
    "id": "EAhSxINLi0Nl"
   },
   "outputs": [],
   "source": [
    "#@title build models\n",
    "from sklearn.ensemble import RandomForestClassifier\n",
    "from sklearn.neighbors import KNeighborsClassifier \n",
    "from sklearn.linear_model import LogisticRegression\n",
    "\n",
    "# Logistic Regression\n",
    "classifier_logistic = LogisticRegression()\n",
    "\n",
    "# K Nearest Neighbors\n",
    "classifier_KNN = KNeighborsClassifier()\n",
    "\n",
    "# Random Forest\n",
    "classifier_RF = RandomForestClassifier()"
   ]
  },
  {
   "cell_type": "code",
   "execution_count": 27,
   "metadata": {
    "colab": {
     "base_uri": "https://localhost:8080/"
    },
    "id": "Av0IRSoBQ3pe",
    "outputId": "7a14b49e-0e1e-4996-f51c-7e4182eaa21d"
   },
   "outputs": [
    {
     "data": {
      "text/plain": [
       "LogisticRegression()"
      ]
     },
     "execution_count": 27,
     "metadata": {},
     "output_type": "execute_result"
    }
   ],
   "source": [
    "# Train the model\n",
    "classifier_logistic.fit(X_train, y_train)"
   ]
  },
  {
   "cell_type": "code",
   "execution_count": 28,
   "metadata": {
    "colab": {
     "base_uri": "https://localhost:8080/"
    },
    "id": "EiLuzUDJRBNi",
    "outputId": "b80b659d-6ca5-48fe-c1cc-debafbf356b1"
   },
   "outputs": [
    {
     "data": {
      "text/plain": [
       "array([0, 0, 0, ..., 0, 0, 0])"
      ]
     },
     "execution_count": 28,
     "metadata": {},
     "output_type": "execute_result"
    }
   ],
   "source": [
    "# Prediction of test data\n",
    "classifier_logistic.predict(X_test)"
   ]
  },
  {
   "cell_type": "code",
   "execution_count": 29,
   "metadata": {
    "colab": {
     "base_uri": "https://localhost:8080/"
    },
    "id": "XjMV04mKRJ30",
    "outputId": "20b5557a-b98f-4086-ca3e-f3662a9595e1"
   },
   "outputs": [
    {
     "data": {
      "text/plain": [
       "0.8088"
      ]
     },
     "execution_count": 29,
     "metadata": {},
     "output_type": "execute_result"
    }
   ],
   "source": [
    "# Accuracy of test data\n",
    "classifier_logistic.score(X_test, y_test)"
   ]
  },
  {
   "cell_type": "code",
   "execution_count": 30,
   "metadata": {
    "colab": {
     "base_uri": "https://localhost:8080/"
    },
    "id": "1OCgNSNri0Nn",
    "outputId": "118df0ba-9f3d-49aa-d794-2304d57b6e09"
   },
   "outputs": [
    {
     "name": "stdout",
     "output_type": "stream",
     "text": [
      "[0.81933333 0.80666667 0.80666667 0.80933333 0.82      ]\n",
      "Model accuracy of Logistic Regression is 0.8124\n",
      "[0.84133333 0.84066667 0.83       0.83066667 0.84      ]\n",
      "Model accuracy of KNN is 0.8365333333333334\n",
      "[0.87866667 0.86066667 0.85533333 0.856      0.86      ]\n",
      "Model accuracy of Random Forest is 0.8621333333333334\n"
     ]
    }
   ],
   "source": [
    "# Use 5-fold Cross Validation to get the accuracy for different models\n",
    "model_names = ['Logistic Regression','KNN','Random Forest']\n",
    "model_list = [classifier_logistic, classifier_KNN, classifier_RF]\n",
    "count = 0\n",
    "\n",
    "for classifier in model_list:\n",
    "    cv_score = model_selection.cross_val_score(classifier, X_train, y_train, cv=5)\n",
    "    print(cv_score)\n",
    "    print('Model accuracy of ' + model_names[count] + ' is ' + str(cv_score.mean()))\n",
    "    count += 1"
   ]
  },
  {
   "cell_type": "markdown",
   "metadata": {
    "id": "7J-23z78i0Ns"
   },
   "source": [
    "### Part 3.2: Use Grid Search to Find Optimal Hyperparameters\n",
    "alternative: random search"
   ]
  },
  {
   "cell_type": "code",
   "execution_count": 31,
   "metadata": {
    "id": "Hpe9PEAAi0Nt"
   },
   "outputs": [],
   "source": [
    "from sklearn.model_selection import GridSearchCV\n",
    "\n",
    "# helper function for printing out grid search results \n",
    "def print_grid_search_metrics(gs):\n",
    "    print (\"Best score: \" + str(gs.best_score_))\n",
    "    print (\"Best parameters set:\")\n",
    "    best_parameters = gs.best_params_\n",
    "    for param_name in sorted(best_parameters.keys()):\n",
    "        print(param_name + ':' + str(best_parameters[param_name]))"
   ]
  },
  {
   "cell_type": "markdown",
   "metadata": {
    "id": "qvYo9I5Ti0Nv"
   },
   "source": [
    "#### Part 3.2.1: Find Optimal Hyperparameters - LogisticRegression"
   ]
  },
  {
   "cell_type": "code",
   "execution_count": 32,
   "metadata": {
    "colab": {
     "base_uri": "https://localhost:8080/"
    },
    "id": "wOc48syxi0Nx",
    "outputId": "67afada1-2bdb-44f7-e415-67cec33299b9",
    "scrolled": true
   },
   "outputs": [
    {
     "data": {
      "text/plain": [
       "GridSearchCV(cv=5, estimator=LogisticRegression(solver='liblinear'),\n",
       "             param_grid={'C': (0.01, 0.05, 0.1, 0.2, 1),\n",
       "                         'penalty': ('l1', 'l2')})"
      ]
     },
     "execution_count": 32,
     "metadata": {},
     "output_type": "execute_result"
    }
   ],
   "source": [
    "# Possible hyperparamter options for Logistic Regression Regularization\n",
    "# Penalty is choosed from L1 or L2\n",
    "# C is the 1/lambda value(weight) for L1 and L2\n",
    "# solver: algorithm to find the weights that minimize the cost function\n",
    "\n",
    "# ('l1', 0.01)('l1', 0.05) ('l1', 0.1) ('l1', 0.2)('l1', 1)\n",
    "# ('12', 0.01)('l2', 0.05) ('l2', 0.1) ('l2', 0.2)('l2', 1)\n",
    "parameters = {\n",
    "    'penalty':('l1', 'l2'),   ## l1 not stabel，so often use l2\n",
    "    'C':(0.01, 0.05, 0.1, 0.2, 1)\n",
    "}\n",
    "Grid_LR = GridSearchCV(LogisticRegression(solver='liblinear'),parameters, cv=5)\n",
    "Grid_LR.fit(X_train, y_train)"
   ]
  },
  {
   "cell_type": "code",
   "execution_count": 33,
   "metadata": {
    "colab": {
     "base_uri": "https://localhost:8080/"
    },
    "id": "nN5rU0e-i0N1",
    "outputId": "5a3e592b-d4ae-4099-a252-0b692e771e7f"
   },
   "outputs": [
    {
     "name": "stdout",
     "output_type": "stream",
     "text": [
      "Best score: 0.8125333333333333\n",
      "Best parameters set:\n",
      "C:1\n",
      "penalty:l1\n"
     ]
    }
   ],
   "source": [
    "# the best hyperparameter combination\n",
    "# C = 1/lambda\n",
    "print_grid_search_metrics(Grid_LR)"
   ]
  },
  {
   "cell_type": "code",
   "execution_count": 34,
   "metadata": {
    "id": "TtkDsXgui0N3"
   },
   "outputs": [],
   "source": [
    "# best model\n",
    "best_LR_model = Grid_LR.best_estimator_"
   ]
  },
  {
   "cell_type": "code",
   "execution_count": 35,
   "metadata": {
    "colab": {
     "base_uri": "https://localhost:8080/"
    },
    "id": "epIrhEO3DimN",
    "outputId": "f0739b0d-a90e-4af9-d448-e8f935b64f9e"
   },
   "outputs": [
    {
     "data": {
      "text/plain": [
       "array([0, 0, 0, ..., 0, 0, 0])"
      ]
     },
     "execution_count": 35,
     "metadata": {},
     "output_type": "execute_result"
    }
   ],
   "source": [
    "best_LR_model.predict(X_test)"
   ]
  },
  {
   "cell_type": "code",
   "execution_count": 36,
   "metadata": {
    "colab": {
     "base_uri": "https://localhost:8080/"
    },
    "id": "zF6EfOVaDZvH",
    "outputId": "dd3e392b-69b9-4193-83ea-65456882056f"
   },
   "outputs": [
    {
     "data": {
      "text/plain": [
       "0.8092"
      ]
     },
     "execution_count": 36,
     "metadata": {},
     "output_type": "execute_result"
    }
   ],
   "source": [
    "best_LR_model.score(X_test, y_test)"
   ]
  },
  {
   "cell_type": "code",
   "execution_count": 37,
   "metadata": {
    "colab": {
     "base_uri": "https://localhost:8080/",
     "height": 280
    },
    "id": "Jy5hU5KymPT7",
    "outputId": "55d69111-7d0d-40b6-fa2f-175625734da7"
   },
   "outputs": [
    {
     "name": "stderr",
     "output_type": "stream",
     "text": [
      "/Users/cj/opt/anaconda3/envs/anly580/lib/python3.9/site-packages/pandas/core/algorithms.py:798: FutureWarning: In a future version, the Index constructor will not infer numeric dtypes when passed object-dtype sequences (matching Series behavior)\n",
      "  uniques = Index(uniques)\n"
     ]
    },
    {
     "data": {
      "image/png": "[encoded data removed]",
      "text/plain": [
       "<Figure size 432x288 with 2 Axes>"
      ]
     },
     "metadata": {
      "needs_background": "light"
     },
     "output_type": "display_data"
    }
   ],
   "source": [
    "LR_models = pd.DataFrame(Grid_LR.cv_results_)\n",
    "res = (LR_models.pivot(index='param_penalty', columns='param_C', values='mean_test_score')\n",
    "            )\n",
    "_ = sns.heatmap(res, cmap='viridis')"
   ]
  },
  {
   "cell_type": "markdown",
   "metadata": {
    "id": "9u9YFedOi0N6"
   },
   "source": [
    "#### Part 3.2.2: Find Optimal Hyperparameters: KNN"
   ]
  },
  {
   "cell_type": "code",
   "execution_count": 38,
   "metadata": {
    "colab": {
     "base_uri": "https://localhost:8080/"
    },
    "id": "o78422XVi0N6",
    "outputId": "c9d022c2-8249-4f13-8c9e-569b74207a2e"
   },
   "outputs": [
    {
     "data": {
      "text/plain": [
       "GridSearchCV(cv=5, estimator=KNeighborsClassifier(),\n",
       "             param_grid={'n_neighbors': [1, 3, 5, 7, 9]})"
      ]
     },
     "execution_count": 38,
     "metadata": {},
     "output_type": "execute_result"
    }
   ],
   "source": [
    "# Possible hyperparamter options for KNN\n",
    "# Choose k\n",
    "parameters = {\n",
    "    'n_neighbors':[1,3,5,7,9]\n",
    "}\n",
    "Grid_KNN = GridSearchCV(KNeighborsClassifier(),parameters, cv=5)\n",
    "Grid_KNN.fit(X_train, y_train)"
   ]
  },
  {
   "cell_type": "code",
   "execution_count": 39,
   "metadata": {
    "colab": {
     "base_uri": "https://localhost:8080/"
    },
    "id": "ydaRZVAIi0N_",
    "outputId": "6abc2df6-8013-4844-f9fd-d933de379242",
    "scrolled": true
   },
   "outputs": [
    {
     "name": "stdout",
     "output_type": "stream",
     "text": [
      "Best score: 0.8433333333333334\n",
      "Best parameters set:\n",
      "n_neighbors:9\n"
     ]
    }
   ],
   "source": [
    "# best k\n",
    "print_grid_search_metrics(Grid_KNN)"
   ]
  },
  {
   "cell_type": "code",
   "execution_count": 40,
   "metadata": {
    "id": "Nq_qfVpXUJcx"
   },
   "outputs": [],
   "source": [
    "best_KNN_model = Grid_KNN.best_estimator_"
   ]
  },
  {
   "cell_type": "markdown",
   "metadata": {
    "id": "nKn_oKLSi0OB"
   },
   "source": [
    "#### Part 3.2.3: Find Optimal Hyperparameters: Random Forest"
   ]
  },
  {
   "cell_type": "code",
   "execution_count": 41,
   "metadata": {
    "colab": {
     "base_uri": "https://localhost:8080/"
    },
    "id": "NniAZIPfi0OC",
    "outputId": "aff2963b-efdb-48df-ad8b-563dec4c864b"
   },
   "outputs": [
    {
     "data": {
      "text/plain": [
       "GridSearchCV(cv=5, estimator=RandomForestClassifier(),\n",
       "             param_grid={'max_depth': [1, 5, 10],\n",
       "                         'n_estimators': [60, 80, 100]})"
      ]
     },
     "execution_count": 41,
     "metadata": {},
     "output_type": "execute_result"
    }
   ],
   "source": [
    "# Possible hyperparamter options for Random Forest\n",
    "# Choose the number of trees\n",
    "parameters = {\n",
    "    'n_estimators' : [60,80,100], ## tree numbers\n",
    "    'max_depth': [1,5,10]\n",
    "}\n",
    "Grid_RF = GridSearchCV(RandomForestClassifier(),parameters, cv=5)\n",
    "Grid_RF.fit(X_train, y_train)"
   ]
  },
  {
   "cell_type": "code",
   "execution_count": 42,
   "metadata": {
    "colab": {
     "base_uri": "https://localhost:8080/"
    },
    "id": "ScPiI-Bfi0OE",
    "outputId": "a34d2835-2965-4b54-9102-f0d903238c33",
    "scrolled": true
   },
   "outputs": [
    {
     "name": "stdout",
     "output_type": "stream",
     "text": [
      "Best score: 0.8661333333333333\n",
      "Best parameters set:\n",
      "max_depth:10\n",
      "n_estimators:100\n"
     ]
    }
   ],
   "source": [
    "# best number of tress\n",
    "print_grid_search_metrics(Grid_RF)"
   ]
  },
  {
   "cell_type": "code",
   "execution_count": 43,
   "metadata": {
    "id": "xJgfri_Mi0OG"
   },
   "outputs": [],
   "source": [
    "# best random forest\n",
    "best_RF_model = Grid_RF.best_estimator_"
   ]
  },
  {
   "cell_type": "code",
   "execution_count": 44,
   "metadata": {
    "colab": {
     "base_uri": "https://localhost:8080/"
    },
    "id": "LjmwORLjqCwZ",
    "outputId": "78b23a48-63ef-4cb8-b5f0-5c3ff40b9d45"
   },
   "outputs": [
    {
     "data": {
      "text/plain": [
       "RandomForestClassifier(max_depth=10)"
      ]
     },
     "execution_count": 44,
     "metadata": {},
     "output_type": "execute_result"
    }
   ],
   "source": [
    "best_RF_model"
   ]
  },
  {
   "cell_type": "markdown",
   "metadata": {
    "id": "xxDAOrGIi0OI"
   },
   "source": [
    "####Part 3.3: Model Evaluation - Confusion Matrix (Precision, Recall, Accuracy)\n",
    "\n",
    "class of interest as positive\n",
    "\n",
    "TP: correctly labeled real churn\n",
    "\n",
    "Precision(PPV, positive predictive value): tp / (tp + fp);\n",
    "Total number of true predictive churn divided by the total number of predictive churn;\n",
    "High Precision means low fp, not many return users were predicted as churn users. \n",
    "\n",
    "\n",
    "Recall(sensitivity, hit rate, true positive rate): tp / (tp + fn)\n",
    "Predict most postive or churn user correctly. High recall means low fn, not many churn users were predicted as return users."
   ]
  },
  {
   "cell_type": "code",
   "execution_count": 47,
   "metadata": {
    "id": "o-tP94iFi0OI"
   },
   "outputs": [],
   "source": [
    "from sklearn.metrics import confusion_matrix\n",
    "from sklearn.metrics import classification_report\n",
    "from sklearn.metrics import precision_score\n",
    "from sklearn.metrics import recall_score\n",
    "\n",
    "# calculate accuracy, precision and recall, [[tn, fp],[]]\n",
    "def cal_evaluation(classifier, cm):\n",
    "    tn = cm[0][0]\n",
    "    fp = cm[0][1]\n",
    "    fn = cm[1][0]\n",
    "    tp = cm[1][1]\n",
    "    accuracy  = (tp + tn) / (tp + fp + fn + tn + 0.0) ## +0.0 是为了最后形式为float\n",
    "    precision = tp / (tp + fp + 0.0)\n",
    "    recall = tp / (tp + fn + 0.0)\n",
    "    print (classifier)\n",
    "    print (\"Accuracy is: \" + str(accuracy))\n",
    "    print (\"precision is: \" + str(precision))\n",
    "    print (\"recall is: \" + str(recall))\n",
    "    print ()\n",
    "\n",
    "# print out confusion matrices\n",
    "def draw_confusion_matrices(confusion_matricies):\n",
    "    class_names = ['Not','Churn']\n",
    "    for cm in confusion_matrices:\n",
    "        classifier, cm = cm[0], cm[1]\n",
    "        cal_evaluation(classifier, cm)"
   ]
  },
  {
   "cell_type": "code",
   "execution_count": 48,
   "metadata": {
    "colab": {
     "base_uri": "https://localhost:8080/"
    },
    "id": "OpSGaN49i0OL",
    "outputId": "de526b5f-1398-430c-82bb-8b1fc7126dcb"
   },
   "outputs": [
    {
     "name": "stdout",
     "output_type": "stream",
     "text": [
      "Random Forest\n",
      "Accuracy is: 0.86\n",
      "precision is: 0.8045977011494253\n",
      "recall is: 0.412573673870334\n",
      "\n",
      "Logistic Regression\n",
      "Accuracy is: 0.8092\n",
      "precision is: 0.5963855421686747\n",
      "recall is: 0.1944990176817289\n",
      "\n",
      "K nearest neighbor\n",
      "Accuracy is: 0.8428\n",
      "precision is: 0.7283464566929134\n",
      "recall is: 0.36345776031434185\n",
      "\n"
     ]
    }
   ],
   "source": [
    "# Confusion matrix, accuracy, precison and recall for random forest and logistic regression\n",
    "confusion_matrices = [\n",
    "    (\"Random Forest\", confusion_matrix(y_test,best_RF_model.predict(X_test))),\n",
    "    (\"Logistic Regression\", confusion_matrix(y_test,best_LR_model.predict(X_test))),\n",
    "    (\"K nearest neighbor\", confusion_matrix(y_test, best_KNN_model.predict(X_test)))\n",
    "]\n",
    "\n",
    "draw_confusion_matrices(confusion_matrices)"
   ]
  },
  {
   "cell_type": "markdown",
   "metadata": {
    "id": "OvHlyhPBi0OT"
   },
   "source": [
    "### Part 3.4: Model Evaluation - ROC & AUC"
   ]
  },
  {
   "cell_type": "markdown",
   "metadata": {
    "id": "jx_3XkgKi0OW"
   },
   "source": [
    "RandomForestClassifier, KNeighborsClassifier and LogisticRegression have predict_prob() function "
   ]
  },
  {
   "cell_type": "markdown",
   "metadata": {
    "id": "-Os_ZLTvi0OX"
   },
   "source": [
    "#### Part 3.4.1: ROC of RF Model"
   ]
  },
  {
   "cell_type": "code",
   "execution_count": 49,
   "metadata": {
    "id": "UypvQMVBi0OY"
   },
   "outputs": [],
   "source": [
    "from sklearn.metrics import roc_curve\n",
    "from sklearn import metrics\n",
    "\n",
    "# Use predict_proba to get the probability results of Random Forest\n",
    "y_pred_rf = best_RF_model.predict_proba(X_test)[:, 1]\n",
    "fpr_rf, tpr_rf, _ = roc_curve(y_test, y_pred_rf)"
   ]
  },
  {
   "cell_type": "code",
   "execution_count": 50,
   "metadata": {
    "colab": {
     "base_uri": "https://localhost:8080/"
    },
    "id": "RyADmHiPTtln",
    "outputId": "455afabc-18ed-42c2-c769-2b1c7b6124ef"
   },
   "outputs": [
    {
     "data": {
      "text/plain": [
       "array([[0.73061332, 0.26938668],\n",
       "       [0.95469616, 0.04530384],\n",
       "       [0.74520303, 0.25479697],\n",
       "       ...,\n",
       "       [0.849634  , 0.150366  ],\n",
       "       [0.92015015, 0.07984985],\n",
       "       [0.89679621, 0.10320379]])"
      ]
     },
     "execution_count": 50,
     "metadata": {},
     "output_type": "execute_result"
    }
   ],
   "source": [
    "best_RF_model.predict_proba(X_test)"
   ]
  },
  {
   "cell_type": "code",
   "execution_count": 51,
   "metadata": {
    "colab": {
     "base_uri": "https://localhost:8080/",
     "height": 295
    },
    "id": "s3PR-PdPi0Ob",
    "outputId": "6044bc55-0938-4ff1-d469-e4e211a709c4"
   },
   "outputs": [
    {
     "data": {
      "image/png": "[encoded data removed]",
      "text/plain": [
       "<Figure size 432x288 with 1 Axes>"
      ]
     },
     "metadata": {
      "needs_background": "light"
     },
     "output_type": "display_data"
    }
   ],
   "source": [
    "# ROC curve of Random Forest result\n",
    "import matplotlib.pyplot as plt\n",
    "plt.figure(1)\n",
    "plt.plot([0, 1], [0, 1], 'k--')\n",
    "plt.plot(fpr_rf, tpr_rf, label='RF')\n",
    "plt.xlabel('False positive rate')\n",
    "plt.ylabel('True positive rate')\n",
    "plt.title('ROC curve - RF model')\n",
    "plt.legend(loc='best')\n",
    "plt.show()"
   ]
  },
  {
   "cell_type": "code",
   "execution_count": 52,
   "metadata": {
    "colab": {
     "base_uri": "https://localhost:8080/"
    },
    "id": "R89IUMYDi0Oe",
    "outputId": "d323434d-201d-4510-d6b6-65c5d0ccc56b"
   },
   "outputs": [
    {
     "data": {
      "text/plain": [
       "0.8481802689706823"
      ]
     },
     "execution_count": 52,
     "metadata": {},
     "output_type": "execute_result"
    }
   ],
   "source": [
    "from sklearn import metrics\n",
    "\n",
    "# AUC score\n",
    "metrics.auc(fpr_rf,tpr_rf)"
   ]
  },
  {
   "cell_type": "markdown",
   "metadata": {
    "id": "-1DVqnJVi0Oh"
   },
   "source": [
    "#### Part 3.4.1: ROC of LR Model"
   ]
  },
  {
   "cell_type": "code",
   "execution_count": 53,
   "metadata": {
    "id": "t-q5XJPoi0Oi"
   },
   "outputs": [],
   "source": [
    "# Use predict_proba to get the probability results of Logistic Regression\n",
    "y_pred_lr = best_LR_model.predict_proba(X_test)[:, 1]\n",
    "fpr_lr, tpr_lr, thresh = roc_curve(y_test, y_pred_lr)"
   ]
  },
  {
   "cell_type": "code",
   "execution_count": 54,
   "metadata": {
    "colab": {
     "base_uri": "https://localhost:8080/"
    },
    "id": "zc4k8gUYcpNE",
    "outputId": "c48d6080-cc25-454a-f05a-7af811537d45"
   },
   "outputs": [
    {
     "data": {
      "text/plain": [
       "array([[0.82436127, 0.17563873],\n",
       "       [0.93171672, 0.06828328],\n",
       "       [0.85520554, 0.14479446],\n",
       "       ...,\n",
       "       [0.71449954, 0.28550046],\n",
       "       [0.89278534, 0.10721466],\n",
       "       [0.85560715, 0.14439285]])"
      ]
     },
     "execution_count": 54,
     "metadata": {},
     "output_type": "execute_result"
    }
   ],
   "source": [
    "best_LR_model.predict_proba(X_test)"
   ]
  },
  {
   "cell_type": "code",
   "execution_count": 55,
   "metadata": {
    "colab": {
     "base_uri": "https://localhost:8080/",
     "height": 295
    },
    "id": "KZSrN-1Mi0Ok",
    "outputId": "c7fa78b4-9523-4b02-95da-0173cd150d11"
   },
   "outputs": [
    {
     "data": {
      "image/png": "[encoded data removed]",
      "text/plain": [
       "<Figure size 432x288 with 1 Axes>"
      ]
     },
     "metadata": {
      "needs_background": "light"
     },
     "output_type": "display_data"
    }
   ],
   "source": [
    "# ROC Curve\n",
    "plt.figure(1)\n",
    "plt.plot([0, 1], [0, 1], 'k--')\n",
    "plt.plot(fpr_lr, tpr_lr, label='LR')\n",
    "plt.xlabel('False positive rate')\n",
    "plt.ylabel('True positive rate')\n",
    "plt.title('ROC curve - LR Model')\n",
    "plt.legend(loc='best')\n",
    "plt.show()"
   ]
  },
  {
   "cell_type": "code",
   "execution_count": 56,
   "metadata": {
    "colab": {
     "base_uri": "https://localhost:8080/"
    },
    "id": "LHAyxishi0On",
    "outputId": "301d2c9c-31f8-4f16-a50f-b66e8f17b7a7"
   },
   "outputs": [
    {
     "data": {
      "text/plain": [
       "0.7721998502100316"
      ]
     },
     "execution_count": 56,
     "metadata": {},
     "output_type": "execute_result"
    }
   ],
   "source": [
    "# AUC score\n",
    "metrics.auc(fpr_lr,tpr_lr)"
   ]
  },
  {
   "cell_type": "markdown",
   "metadata": {
    "id": "gHHurD8Ii0Oq"
   },
   "source": [
    "# Part 4: Model Extra Functionality"
   ]
  },
  {
   "cell_type": "markdown",
   "metadata": {
    "id": "dSx4TPO-i0Or"
   },
   "source": [
    "### Part 4.1:  Logistic Regression Model"
   ]
  },
  {
   "cell_type": "markdown",
   "metadata": {
    "id": "BtLHUixoi0Ot"
   },
   "source": [
    "The corelated features that we are interested in"
   ]
  },
  {
   "cell_type": "code",
   "execution_count": 57,
   "metadata": {
    "colab": {
     "base_uri": "https://localhost:8080/",
     "height": 305
    },
    "id": "mbNTNeb7saCy",
    "outputId": "88e1ec64-2854-4bf2-ba0e-97f414b33b7e"
   },
   "outputs": [
    {
     "name": "stderr",
     "output_type": "stream",
     "text": [
      "/Users/cj/opt/anaconda3/envs/anly580/lib/python3.9/site-packages/sklearn/utils/deprecation.py:87: FutureWarning: Function get_feature_names is deprecated; get_feature_names is deprecated in 1.0 and will be removed in 1.2. Please use get_feature_names_out instead.\n",
      "  warnings.warn(msg, category=FutureWarning)\n"
     ]
    },
    {
     "data": {
      "text/html": [
       "<div>\n",
       "<style scoped>\n",
       "    .dataframe tbody tr th:only-of-type {\n",
       "        vertical-align: middle;\n",
       "    }\n",
       "\n",
       "    .dataframe tbody tr th {\n",
       "        vertical-align: top;\n",
       "    }\n",
       "\n",
       "    .dataframe thead th {\n",
       "        text-align: right;\n",
       "    }\n",
       "</style>\n",
       "<table border=\"1\" class=\"dataframe\">\n",
       "  <thead>\n",
       "    <tr style=\"text-align: right;\">\n",
       "      <th></th>\n",
       "      <th>CreditScore</th>\n",
       "      <th>Gender</th>\n",
       "      <th>Age</th>\n",
       "      <th>Tenure</th>\n",
       "      <th>Balance</th>\n",
       "      <th>NumOfProducts</th>\n",
       "      <th>HasCrCard</th>\n",
       "      <th>IsActiveMember</th>\n",
       "      <th>EstimatedSalary</th>\n",
       "      <th>Geography_France</th>\n",
       "      <th>Geography_Germany</th>\n",
       "      <th>Geography_Spain</th>\n",
       "      <th>SalaryInRMB</th>\n",
       "    </tr>\n",
       "  </thead>\n",
       "  <tbody>\n",
       "    <tr>\n",
       "      <th>0</th>\n",
       "      <td>619</td>\n",
       "      <td>0.0</td>\n",
       "      <td>42</td>\n",
       "      <td>2</td>\n",
       "      <td>0.00</td>\n",
       "      <td>1</td>\n",
       "      <td>1</td>\n",
       "      <td>1</td>\n",
       "      <td>101348.88</td>\n",
       "      <td>1.0</td>\n",
       "      <td>0.0</td>\n",
       "      <td>0.0</td>\n",
       "      <td>648632.832</td>\n",
       "    </tr>\n",
       "    <tr>\n",
       "      <th>1</th>\n",
       "      <td>608</td>\n",
       "      <td>0.0</td>\n",
       "      <td>41</td>\n",
       "      <td>1</td>\n",
       "      <td>83807.86</td>\n",
       "      <td>1</td>\n",
       "      <td>0</td>\n",
       "      <td>1</td>\n",
       "      <td>112542.58</td>\n",
       "      <td>0.0</td>\n",
       "      <td>0.0</td>\n",
       "      <td>1.0</td>\n",
       "      <td>720272.512</td>\n",
       "    </tr>\n",
       "    <tr>\n",
       "      <th>2</th>\n",
       "      <td>502</td>\n",
       "      <td>0.0</td>\n",
       "      <td>42</td>\n",
       "      <td>8</td>\n",
       "      <td>159660.80</td>\n",
       "      <td>3</td>\n",
       "      <td>1</td>\n",
       "      <td>0</td>\n",
       "      <td>113931.57</td>\n",
       "      <td>1.0</td>\n",
       "      <td>0.0</td>\n",
       "      <td>0.0</td>\n",
       "      <td>729162.048</td>\n",
       "    </tr>\n",
       "    <tr>\n",
       "      <th>3</th>\n",
       "      <td>699</td>\n",
       "      <td>0.0</td>\n",
       "      <td>39</td>\n",
       "      <td>1</td>\n",
       "      <td>0.00</td>\n",
       "      <td>2</td>\n",
       "      <td>0</td>\n",
       "      <td>0</td>\n",
       "      <td>93826.63</td>\n",
       "      <td>1.0</td>\n",
       "      <td>0.0</td>\n",
       "      <td>0.0</td>\n",
       "      <td>600490.432</td>\n",
       "    </tr>\n",
       "    <tr>\n",
       "      <th>4</th>\n",
       "      <td>850</td>\n",
       "      <td>0.0</td>\n",
       "      <td>43</td>\n",
       "      <td>2</td>\n",
       "      <td>125510.82</td>\n",
       "      <td>1</td>\n",
       "      <td>1</td>\n",
       "      <td>1</td>\n",
       "      <td>79084.10</td>\n",
       "      <td>0.0</td>\n",
       "      <td>0.0</td>\n",
       "      <td>1.0</td>\n",
       "      <td>506138.240</td>\n",
       "    </tr>\n",
       "  </tbody>\n",
       "</table>\n",
       "</div>"
      ],
      "text/plain": [
       "   CreditScore  Gender  Age  Tenure    Balance  NumOfProducts  HasCrCard  \\\n",
       "0          619     0.0   42       2       0.00              1          1   \n",
       "1          608     0.0   41       1   83807.86              1          0   \n",
       "2          502     0.0   42       8  159660.80              3          1   \n",
       "3          699     0.0   39       1       0.00              2          0   \n",
       "4          850     0.0   43       2  125510.82              1          1   \n",
       "\n",
       "   IsActiveMember  EstimatedSalary  Geography_France  Geography_Germany  \\\n",
       "0               1        101348.88               1.0                0.0   \n",
       "1               1        112542.58               0.0                0.0   \n",
       "2               0        113931.57               1.0                0.0   \n",
       "3               0         93826.63               1.0                0.0   \n",
       "4               1         79084.10               0.0                0.0   \n",
       "\n",
       "   Geography_Spain  SalaryInRMB  \n",
       "0              0.0   648632.832  \n",
       "1              1.0   720272.512  \n",
       "2              0.0   729162.048  \n",
       "3              0.0   600490.432  \n",
       "4              1.0   506138.240  "
      ]
     },
     "execution_count": 57,
     "metadata": {},
     "output_type": "execute_result"
    }
   ],
   "source": [
    "X_with_corr = X.copy()\n",
    "\n",
    "X_with_corr = OneHotEncoding(X_with_corr, enc_ohe, ['Geography'])\n",
    "X_with_corr['Gender'] = enc_oe.transform(X_with_corr[['Gender']])\n",
    "X_with_corr['SalaryInRMB'] = X_with_corr['EstimatedSalary'] * 6.4\n",
    "X_with_corr.head()"
   ]
  },
  {
   "cell_type": "code",
   "execution_count": 58,
   "metadata": {
    "colab": {
     "base_uri": "https://localhost:8080/"
    },
    "id": "cQaXOIsUi0Ou",
    "outputId": "839204d6-06da-4ea8-bbf8-14da99b32d60",
    "scrolled": true
   },
   "outputs": [
    {
     "name": "stdout",
     "output_type": "stream",
     "text": [
      "Logistic Regression (L1) Coefficients\n",
      "Age : 0.7307\n",
      "IsActiveMember : -0.5046\n",
      "Geography_Germany : 0.3121\n",
      "Gender : -0.2409\n",
      "Balance : 0.1509\n",
      "CreditScore : -0.0457\n",
      "NumOfProducts : -0.0439\n",
      "Tenure : -0.0271\n",
      "SalaryInRMB : 0.006\n",
      "Geography_France : -0.0043\n",
      "EstimatedSalary : 0.0032\n",
      "HasCrCard : -0.0022\n",
      "Geography_Spain : 0.0\n"
     ]
    }
   ],
   "source": [
    "# add L1 regularization to logistic regression\n",
    "# check the coef for feature selection\n",
    "scaler = StandardScaler()\n",
    "X_l1 = scaler.fit_transform(X_with_corr)\n",
    "LRmodel_l1 = LogisticRegression(penalty=\"l1\", C = 0.04, solver='liblinear')\n",
    "LRmodel_l1.fit(X_l1, y)\n",
    "\n",
    "indices = np.argsort(abs(LRmodel_l1.coef_[0]))[::-1]\n",
    "\n",
    "print (\"Logistic Regression (L1) Coefficients\")\n",
    "for ind in range(X_with_corr.shape[1]):\n",
    "  print (\"{0} : {1}\".format(X_with_corr.columns[indices[ind]],round(LRmodel_l1.coef_[0][indices[ind]], 4)))"
   ]
  },
  {
   "cell_type": "code",
   "execution_count": 60,
   "metadata": {
    "colab": {
     "base_uri": "https://localhost:8080/"
    },
    "id": "majifZZqi0O9",
    "outputId": "c271e454-3ca9-4ef5-eb8f-204a95c08a9a"
   },
   "outputs": [
    {
     "name": "stdout",
     "output_type": "stream",
     "text": [
      "Logistic Regression (L2) Coefficients\n",
      "Age : 0.751\n",
      "IsActiveMember : -0.5272\n",
      "Gender : -0.2591\n",
      "Geography_Germany : 0.2279\n",
      "Balance : 0.162\n",
      "Geography_France : -0.1207\n",
      "Geography_Spain : -0.089\n",
      "CreditScore : -0.0637\n",
      "NumOfProducts : -0.0586\n",
      "Tenure : -0.0452\n",
      "HasCrCard : -0.0199\n",
      "SalaryInRMB : 0.0137\n",
      "EstimatedSalary : 0.0137\n"
     ]
    }
   ],
   "source": [
    "# add L2 regularization to logistic regression\n",
    "# check the coef for feature selection\n",
    "np.random.seed()\n",
    "scaler = StandardScaler()\n",
    "X_l2 = scaler.fit_transform(X_with_corr)\n",
    "LRmodel_l2 = LogisticRegression(penalty=\"l2\", C = 0.1, solver='liblinear', random_state=42)\n",
    "LRmodel_l2.fit(X_l2, y)\n",
    "LRmodel_l2.coef_[0]\n",
    "\n",
    "indices = np.argsort(abs(LRmodel_l2.coef_[0]))[::-1]\n",
    "\n",
    "print (\"Logistic Regression (L2) Coefficients\")\n",
    "for ind in range(X_with_corr.shape[1]):\n",
    "  print (\"{0} : {1}\".format(X_with_corr.columns[indices[ind]],round(LRmodel_l2.coef_[0][indices[ind]], 4)))"
   ]
  },
  {
   "cell_type": "markdown",
   "metadata": {
    "id": "uqs41ydLi0O_"
   },
   "source": [
    "### Part 4.2:  Random Forest Model - Feature Importance Discussion"
   ]
  },
  {
   "cell_type": "code",
   "execution_count": 61,
   "metadata": {
    "colab": {
     "base_uri": "https://localhost:8080/",
     "height": 261
    },
    "id": "z6HNnaBRvE1T",
    "outputId": "a189e7da-2ec5-456e-b466-5ffde3e2b0a2"
   },
   "outputs": [
    {
     "name": "stderr",
     "output_type": "stream",
     "text": [
      "/Users/cj/opt/anaconda3/envs/anly580/lib/python3.9/site-packages/sklearn/utils/deprecation.py:87: FutureWarning: Function get_feature_names is deprecated; get_feature_names is deprecated in 1.0 and will be removed in 1.2. Please use get_feature_names_out instead.\n",
      "  warnings.warn(msg, category=FutureWarning)\n"
     ]
    },
    {
     "data": {
      "text/html": [
       "<div>\n",
       "<style scoped>\n",
       "    .dataframe tbody tr th:only-of-type {\n",
       "        vertical-align: middle;\n",
       "    }\n",
       "\n",
       "    .dataframe tbody tr th {\n",
       "        vertical-align: top;\n",
       "    }\n",
       "\n",
       "    .dataframe thead th {\n",
       "        text-align: right;\n",
       "    }\n",
       "</style>\n",
       "<table border=\"1\" class=\"dataframe\">\n",
       "  <thead>\n",
       "    <tr style=\"text-align: right;\">\n",
       "      <th></th>\n",
       "      <th>CreditScore</th>\n",
       "      <th>Gender</th>\n",
       "      <th>Age</th>\n",
       "      <th>Tenure</th>\n",
       "      <th>Balance</th>\n",
       "      <th>NumOfProducts</th>\n",
       "      <th>HasCrCard</th>\n",
       "      <th>IsActiveMember</th>\n",
       "      <th>EstimatedSalary</th>\n",
       "      <th>Geography_France</th>\n",
       "      <th>Geography_Germany</th>\n",
       "      <th>Geography_Spain</th>\n",
       "    </tr>\n",
       "  </thead>\n",
       "  <tbody>\n",
       "    <tr>\n",
       "      <th>0</th>\n",
       "      <td>619</td>\n",
       "      <td>0.0</td>\n",
       "      <td>42</td>\n",
       "      <td>2</td>\n",
       "      <td>0.00</td>\n",
       "      <td>1</td>\n",
       "      <td>1</td>\n",
       "      <td>1</td>\n",
       "      <td>101348.88</td>\n",
       "      <td>1.0</td>\n",
       "      <td>0.0</td>\n",
       "      <td>0.0</td>\n",
       "    </tr>\n",
       "    <tr>\n",
       "      <th>1</th>\n",
       "      <td>608</td>\n",
       "      <td>0.0</td>\n",
       "      <td>41</td>\n",
       "      <td>1</td>\n",
       "      <td>83807.86</td>\n",
       "      <td>1</td>\n",
       "      <td>0</td>\n",
       "      <td>1</td>\n",
       "      <td>112542.58</td>\n",
       "      <td>0.0</td>\n",
       "      <td>0.0</td>\n",
       "      <td>1.0</td>\n",
       "    </tr>\n",
       "    <tr>\n",
       "      <th>2</th>\n",
       "      <td>502</td>\n",
       "      <td>0.0</td>\n",
       "      <td>42</td>\n",
       "      <td>8</td>\n",
       "      <td>159660.80</td>\n",
       "      <td>3</td>\n",
       "      <td>1</td>\n",
       "      <td>0</td>\n",
       "      <td>113931.57</td>\n",
       "      <td>1.0</td>\n",
       "      <td>0.0</td>\n",
       "      <td>0.0</td>\n",
       "    </tr>\n",
       "    <tr>\n",
       "      <th>3</th>\n",
       "      <td>699</td>\n",
       "      <td>0.0</td>\n",
       "      <td>39</td>\n",
       "      <td>1</td>\n",
       "      <td>0.00</td>\n",
       "      <td>2</td>\n",
       "      <td>0</td>\n",
       "      <td>0</td>\n",
       "      <td>93826.63</td>\n",
       "      <td>1.0</td>\n",
       "      <td>0.0</td>\n",
       "      <td>0.0</td>\n",
       "    </tr>\n",
       "    <tr>\n",
       "      <th>4</th>\n",
       "      <td>850</td>\n",
       "      <td>0.0</td>\n",
       "      <td>43</td>\n",
       "      <td>2</td>\n",
       "      <td>125510.82</td>\n",
       "      <td>1</td>\n",
       "      <td>1</td>\n",
       "      <td>1</td>\n",
       "      <td>79084.10</td>\n",
       "      <td>0.0</td>\n",
       "      <td>0.0</td>\n",
       "      <td>1.0</td>\n",
       "    </tr>\n",
       "  </tbody>\n",
       "</table>\n",
       "</div>"
      ],
      "text/plain": [
       "   CreditScore  Gender  Age  Tenure    Balance  NumOfProducts  HasCrCard  \\\n",
       "0          619     0.0   42       2       0.00              1          1   \n",
       "1          608     0.0   41       1   83807.86              1          0   \n",
       "2          502     0.0   42       8  159660.80              3          1   \n",
       "3          699     0.0   39       1       0.00              2          0   \n",
       "4          850     0.0   43       2  125510.82              1          1   \n",
       "\n",
       "   IsActiveMember  EstimatedSalary  Geography_France  Geography_Germany  \\\n",
       "0               1        101348.88               1.0                0.0   \n",
       "1               1        112542.58               0.0                0.0   \n",
       "2               0        113931.57               1.0                0.0   \n",
       "3               0         93826.63               1.0                0.0   \n",
       "4               1         79084.10               0.0                0.0   \n",
       "\n",
       "   Geography_Spain  \n",
       "0              0.0  \n",
       "1              1.0  \n",
       "2              0.0  \n",
       "3              0.0  \n",
       "4              1.0  "
      ]
     },
     "execution_count": 61,
     "metadata": {},
     "output_type": "execute_result"
    }
   ],
   "source": [
    "X_RF = X.copy()\n",
    "\n",
    "X_RF = OneHotEncoding(X_RF, enc_ohe, ['Geography'])\n",
    "X_RF['Gender'] = enc_oe.transform(X_RF[['Gender']])\n",
    "\n",
    "X_RF.head()"
   ]
  },
  {
   "cell_type": "code",
   "execution_count": 62,
   "metadata": {
    "id": "MPxUM2lei0PA"
   },
   "outputs": [
    {
     "name": "stdout",
     "output_type": "stream",
     "text": [
      "Feature importance ranking by Random Forest Model:\n",
      "Age : 0.24\n",
      "EstimatedSalary : 0.1456\n",
      "CreditScore : 0.144\n",
      "Balance : 0.1419\n",
      "NumOfProducts : 0.1287\n",
      "Tenure : 0.0824\n",
      "IsActiveMember : 0.0411\n",
      "Geography_Germany : 0.021\n",
      "Gender : 0.0188\n",
      "HasCrCard : 0.0182\n"
     ]
    }
   ],
   "source": [
    "# check feature importance of random forest for feature selection\n",
    "forest = RandomForestClassifier()\n",
    "forest.fit(X_RF, y)\n",
    "\n",
    "importances = forest.feature_importances_\n",
    "\n",
    "indices = np.argsort(importances)[::-1]\n",
    "\n",
    "# Print the feature ranking\n",
    "print(\"Feature importance ranking by Random Forest Model:\")\n",
    "for ind in range(X.shape[1]):\n",
    "  print (\"{0} : {1}\".format(X_RF.columns[indices[ind]],round(importances[indices[ind]], 4)))"
   ]
  }
 ],
 "metadata": {
  "colab": {
   "provenance": [],
   "toc_visible": true
  },
  "kernelspec": {
   "display_name": "Python 3 (ipykernel)",
   "language": "python",
   "name": "python3"
  },
  "language_info": {
   "codemirror_mode": {
    "name": "ipython",
    "version": 3
   },
   "file_extension": ".py",
   "mimetype": "text/x-python",
   "name": "python",
   "nbconvert_exporter": "python",
   "pygments_lexer": "ipython3",
   "version": "3.9.12"
  }
 },
 "nbformat": 4,
 "nbformat_minor": 1
}
